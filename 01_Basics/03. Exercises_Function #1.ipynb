{
 "cells": [
  {
   "cell_type": "markdown",
   "metadata": {},
   "source": [
    "### 1_ Characters Counter\n",
    "Write a function count_char() which takes a string as an argument and counts the number of each character in a string and returns a dictionary where keys are characters and values are the number of characters in the string.\n",
    "\n",
    "Example:\n",
    "\n",
    "`>>> count_char(\"abcdefgabc\") \n",
    "{'a': 2, 'b': 2, 'c': 2, 'd': 1, 'e': 1, 'f': 1, 'g': 1}`"
   ]
  },
  {
   "cell_type": "code",
   "execution_count": 26,
   "metadata": {},
   "outputs": [],
   "source": [
    "# 1 \n",
    "\n",
    "def count_char(text: str) -> dict:\n",
    "    \n",
    "    \"\"\"\n",
    "    Calculates ferquency of unique character in in a string.\n",
    "    \n",
    "    :param text: Input string\n",
    "    :returns: A dictionary of character frequency\n",
    "    \n",
    "    Example:    \n",
    "    >>> count_char(\"aaabb\")\n",
    "     {'a': 3, 'b': 2}\n",
    "    >>> count_char('')\n",
    "    {}\n",
    "    \"\"\"\n",
    "    char_freq = {}\n",
    "    for char in text:\n",
    "        char_freq[char] = char_freq.get(char, 0) + 1   \n",
    "        \n",
    "    return char_freq"
   ]
  },
  {
   "cell_type": "code",
   "execution_count": 24,
   "metadata": {},
   "outputs": [],
   "source": [
    "my_str = \"abcdefgabc\""
   ]
  },
  {
   "cell_type": "code",
   "execution_count": 25,
   "metadata": {},
   "outputs": [
    {
     "data": {
      "text/plain": [
       "{'a': 2, 'b': 2, 'c': 2, 'd': 1, 'e': 1, 'f': 1, 'g': 1}"
      ]
     },
     "execution_count": 25,
     "metadata": {},
     "output_type": "execute_result"
    }
   ],
   "source": [
    "count_char(my_str)"
   ]
  },
  {
   "cell_type": "code",
   "execution_count": 10,
   "metadata": {},
   "outputs": [],
   "source": [
    "# 2\n",
    "\n",
    "def count_char2(text):\n",
    "    char_freq = {}\n",
    "    for char in text:\n",
    "        if char in char_freq:     \n",
    "            char_freq[char] += 1\n",
    "        else:\n",
    "            char_freq[char] = 1\n",
    "        \n",
    "    return char_freq"
   ]
  },
  {
   "cell_type": "code",
   "execution_count": 11,
   "metadata": {},
   "outputs": [
    {
     "data": {
      "text/plain": [
       "{'s': 1,\n",
       " 'd': 1,\n",
       " 'h': 2,\n",
       " 'g': 2,\n",
       " 'f': 1,\n",
       " 'j': 2,\n",
       " 'k': 2,\n",
       " 'u': 1,\n",
       " 'o': 1,\n",
       " 'i': 1}"
      ]
     },
     "execution_count": 11,
     "metadata": {},
     "output_type": "execute_result"
    }
   ],
   "source": [
    "count_char2('sdhgfjghkjukoi')"
   ]
  },
  {
   "cell_type": "code",
   "execution_count": null,
   "metadata": {},
   "outputs": [],
   "source": []
  },
  {
   "cell_type": "code",
   "execution_count": 12,
   "metadata": {},
   "outputs": [],
   "source": [
    "# 3\n",
    "\n",
    "from collections import Counter\n"
   ]
  },
  {
   "cell_type": "code",
   "execution_count": 13,
   "metadata": {},
   "outputs": [
    {
     "data": {
      "text/plain": [
       "Counter({'a': 1, 'w': 2, 'e': 2, 'r': 2})"
      ]
     },
     "execution_count": 13,
     "metadata": {},
     "output_type": "execute_result"
    }
   ],
   "source": [
    "Counter('aweerwr')"
   ]
  },
  {
   "cell_type": "code",
   "execution_count": 16,
   "metadata": {},
   "outputs": [
    {
     "data": {
      "text/plain": [
       "1"
      ]
     },
     "execution_count": 16,
     "metadata": {},
     "output_type": "execute_result"
    }
   ],
   "source": [
    "Counter('aweerwr')['a']"
   ]
  },
  {
   "cell_type": "code",
   "execution_count": null,
   "metadata": {},
   "outputs": [],
   "source": []
  },
  {
   "cell_type": "markdown",
   "metadata": {},
   "source": [
    "### 2_ Make Sentence\n",
    "Write function `make_sentence()` that  generate all sentences where  subject is in `[\"I\", \"You\"]`,  verb is in `[\"Play\", \"Love\"]` and the object is in `[\"Hockey\",\"Football\"]`  and return them as a list of sentences.\n",
    "\n",
    "**Note**: your function must get subjects,  verbs,  and objects as its argument.\n",
    "\n",
    "\n",
    "\n",
    "\n",
    "*subjects = [\"I\", \"You\"]*\n",
    "\n",
    "*verbs = [\"Play\", \"Love\"]*\n",
    "\n",
    "*objects = [\"Statistic\", \"Python\"]*\n",
    "\n",
    "*`def make_sentence(subjects, verbs, objects):`*\n",
    "\n",
    "   *`pass`*\n",
    "   \n",
    "   "
   ]
  },
  {
   "cell_type": "code",
   "execution_count": 61,
   "metadata": {},
   "outputs": [],
   "source": [
    "from typing import Iterable "
   ]
  },
  {
   "cell_type": "code",
   "execution_count": 62,
   "metadata": {},
   "outputs": [],
   "source": [
    "# 1 beginner \n",
    "\n",
    "def make_sentence(subjects: list, verbs: list, objects: list) -> list:\n",
    "\n",
    "# def make_sentence(subjects: Iterable[str], verbs: Iterable[str], objects: Iterable[str]) -> list:   \n",
    "                                                                                              \n",
    "    \"\"\"\n",
    "    Generates all possible senence from input subjecs, verbs and objects.\n",
    "    \n",
    "    :param :subjects Input sentences subjects\n",
    "    :param :verbs Input sentences verbs\n",
    "    :param :objects Input sentences objecs\n",
    "    :returns : List of all possible sentences \n",
    "    \"\"\"\n",
    "    sentences = []\n",
    "    for s in subjects:\n",
    "        for v in verbs:\n",
    "            for o in objects:\n",
    "                sent = f'{s} {v} {o}'\n",
    "                sentences.append(sent)\n",
    "            \n",
    "    return sentences "
   ]
  },
  {
   "cell_type": "code",
   "execution_count": 63,
   "metadata": {},
   "outputs": [],
   "source": [
    "subjects = [\"I\", \"You\"]\n",
    "verbs = [\"Play\", \"Love\"]\n",
    "objects = [\"Statistic\", \"Python\"]\n",
    "\n"
   ]
  },
  {
   "cell_type": "code",
   "execution_count": 64,
   "metadata": {},
   "outputs": [
    {
     "data": {
      "text/plain": [
       "['I Play Statistic',\n",
       " 'I Play Python',\n",
       " 'I Love Statistic',\n",
       " 'I Love Python',\n",
       " 'You Play Statistic',\n",
       " 'You Play Python',\n",
       " 'You Love Statistic',\n",
       " 'You Love Python']"
      ]
     },
     "execution_count": 64,
     "metadata": {},
     "output_type": "execute_result"
    }
   ],
   "source": [
    "make_sentence(subjects, verbs, objects)"
   ]
  },
  {
   "cell_type": "code",
   "execution_count": null,
   "metadata": {},
   "outputs": [],
   "source": []
  },
  {
   "cell_type": "markdown",
   "metadata": {},
   "source": [
    "#### Itertools & map"
   ]
  },
  {
   "cell_type": "code",
   "execution_count": 44,
   "metadata": {},
   "outputs": [],
   "source": [
    "import itertools as it"
   ]
  },
  {
   "cell_type": "code",
   "execution_count": 46,
   "metadata": {},
   "outputs": [
    {
     "data": {
      "text/plain": [
       "[(1, 3, 7),\n",
       " (1, 3, 8),\n",
       " (1, 4, 7),\n",
       " (1, 4, 8),\n",
       " (1, 5, 7),\n",
       " (1, 5, 8),\n",
       " (2, 3, 7),\n",
       " (2, 3, 8),\n",
       " (2, 4, 7),\n",
       " (2, 4, 8),\n",
       " (2, 5, 7),\n",
       " (2, 5, 8)]"
      ]
     },
     "execution_count": 46,
     "metadata": {},
     "output_type": "execute_result"
    }
   ],
   "source": [
    "# for example:\n",
    "\n",
    "list(it.product([1, 2], [3, 4 ,5], [7, 8]))\n"
   ]
  },
  {
   "cell_type": "code",
   "execution_count": 59,
   "metadata": {},
   "outputs": [],
   "source": [
    "# 2 advanced \n",
    "\n",
    "def make_sentence2(subjects, verbs, objects):\n",
    "    \n",
    "    combs = list(it.product(subjects, verbs, objects))       \n",
    "    sentences = list(map(lambda comb: ' '.join(comb), combs))\n",
    "   \n",
    "            \n",
    "    return sentences "
   ]
  },
  {
   "cell_type": "code",
   "execution_count": 60,
   "metadata": {},
   "outputs": [
    {
     "data": {
      "text/plain": [
       "['I Play Statistic',\n",
       " 'I Play Python',\n",
       " 'I Love Statistic',\n",
       " 'I Love Python',\n",
       " 'You Play Statistic',\n",
       " 'You Play Python',\n",
       " 'You Love Statistic',\n",
       " 'You Love Python']"
      ]
     },
     "execution_count": 60,
     "metadata": {},
     "output_type": "execute_result"
    }
   ],
   "source": [
    "make_sentence2(subjects, verbs, objects)"
   ]
  },
  {
   "cell_type": "code",
   "execution_count": null,
   "metadata": {},
   "outputs": [],
   "source": []
  },
  {
   "cell_type": "markdown",
   "metadata": {},
   "source": [
    "### 3_Find Distance\n",
    "A robot moves in a plane starting from the original point (0,0). The robot can move *UP*, *DOWN*, *LEFT* and *RIGHT* with a given step. The trace of robot movement is shown as the following:\n",
    "\n",
    "**UP 5**\n",
    "\n",
    "**DOWN 3**\n",
    "\n",
    "The numbers after the direction are steps. Write a program to compute the distance from the current position and the original point after a sequence of movements.\n",
    "\n",
    "**Note**:  use a function named `robot_moves` that takes a list of movements as its argument and calculates the distance and stores the result in a variable named `dist_value`\n",
    "\n",
    "**Note** : in each line, you get input from the user in form  `<move> <steps>` (until the user writes **End**).\n",
    "and put these user's inputs in a list to give it to your function."
   ]
  },
  {
   "cell_type": "markdown",
   "metadata": {},
   "source": [
    "*`def robot_moves(moves):`*\n",
    "\n",
    "   *`pass`*"
   ]
  },
  {
   "cell_type": "markdown",
   "metadata": {},
   "source": [
    "**Example**: If the following strings  are given as input to the program:"
   ]
  },
  {
   "cell_type": "markdown",
   "metadata": {},
   "source": [
    "*`UP 5`*\n",
    "\n",
    "*`DOWN 3`*\n",
    "\n",
    "*`LEFT 3`*\n",
    "\n",
    "*`RIGHT 2`*"
   ]
  },
  {
   "cell_type": "markdown",
   "metadata": {},
   "source": [
    "\n",
    "\n",
    "*the variable `dist_value` must be  2.23606797749979*"
   ]
  },
  {
   "cell_type": "code",
   "execution_count": 3,
   "metadata": {},
   "outputs": [],
   "source": [
    "from typing import List "
   ]
  },
  {
   "cell_type": "code",
   "execution_count": 4,
   "metadata": {},
   "outputs": [],
   "source": [
    "def robot_moves(moves: List[str]) -> float:   # or def robot_moves(moves: list):\n",
    "    \"\"\"\n",
    "    Calculate the distance having robot moves in UP, DOWN, LEFT and RIGHT direction.    \n",
    "    \n",
    "    :param moves: List of robot moves\n",
    "    :returns: Final robot distance from origin \n",
    "    \"\"\"\n",
    "   \n",
    "    # Initial robot position\n",
    "    X, Y = 0, 0\n",
    "   \n",
    "    # Update robot position by each move\n",
    "    for move in moves:\n",
    "        direction, displace = move.split(' ')\n",
    "        displace = float(displace)          \n",
    "       \n",
    "        if direction == 'UP':\n",
    "            Y += displace\n",
    "        elif direction == 'DOWN':\n",
    "             Y -= displace\n",
    "        elif direction == 'LEFT':\n",
    "            X -= displace\n",
    "        else:\n",
    "            X += displace\n",
    "   \n",
    "    # Final euclidean distamce from origin\n",
    "    dist = (X ** 2 + Y ** 2) ** 0.5\n",
    "        \n",
    "    return dist\n"
   ]
  },
  {
   "cell_type": "code",
   "execution_count": 5,
   "metadata": {},
   "outputs": [
    {
     "name": "stdin",
     "output_type": "stream",
     "text": [
      "Enter step: UP 5\n",
      "Enter step: DOWN 3\n",
      "Enter step: LEFT 3\n",
      "Enter step: RIGHT 2\n",
      "Enter step: end\n"
     ]
    }
   ],
   "source": [
    "moves = []\n",
    "\n",
    "while True:\n",
    "    move = input('Enter step:').upper()\n",
    "    if move == 'END':         \n",
    "        break\n",
    "        \n",
    "    moves.append(move)"
   ]
  },
  {
   "cell_type": "code",
   "execution_count": 6,
   "metadata": {},
   "outputs": [
    {
     "data": {
      "text/plain": [
       "2.23606797749979"
      ]
     },
     "execution_count": 6,
     "metadata": {},
     "output_type": "execute_result"
    }
   ],
   "source": [
    "robot_moves(moves)"
   ]
  }
 ],
 "metadata": {
  "kernelspec": {
   "display_name": "Python 3",
   "language": "python",
   "name": "python3"
  },
  "language_info": {
   "codemirror_mode": {
    "name": "ipython",
    "version": 3
   },
   "file_extension": ".py",
   "mimetype": "text/x-python",
   "name": "python",
   "nbconvert_exporter": "python",
   "pygments_lexer": "ipython3",
   "version": "3.7.6"
  }
 },
 "nbformat": 4,
 "nbformat_minor": 4
}
