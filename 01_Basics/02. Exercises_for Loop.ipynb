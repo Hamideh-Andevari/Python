{
 "cells": [
  {
   "attachments": {
    "image.png": {
     "image/png": "[encoded data removed]"
    }
   },
   "cell_type": "markdown",
   "metadata": {},
   "source": [
    "### 1_String Represent Integer!\n",
    "Write a Python program to check a string representing a number not \n",
    "\n",
    "Example_1:   \n",
    "\n",
    "![image.png](attachment:image.png)"
   ]
  },
  {
   "cell_type": "code",
   "execution_count": 2,
   "metadata": {},
   "outputs": [],
   "source": [
    "num_str = 'py123topia'"
   ]
  },
  {
   "cell_type": "code",
   "execution_count": 3,
   "metadata": {},
   "outputs": [],
   "source": [
    "numbers = set('1234567890')\n",
    "\n",
    "# Searching the set is fast "
   ]
  },
  {
   "cell_type": "code",
   "execution_count": 4,
   "metadata": {},
   "outputs": [
    {
     "data": {
      "text/plain": [
       "{'0', '1', '2', '3', '4', '5', '6', '7', '8', '9'}"
      ]
     },
     "execution_count": 4,
     "metadata": {},
     "output_type": "execute_result"
    }
   ],
   "source": [
    "numbers"
   ]
  },
  {
   "cell_type": "code",
   "execution_count": 5,
   "metadata": {},
   "outputs": [
    {
     "name": "stdout",
     "output_type": "stream",
     "text": [
      "p is a not a number!\n",
      "y is a not a number!\n",
      "1 is a number!\n",
      "2 is a number!\n",
      "3 is a number!\n",
      "t is a not a number!\n",
      "o is a not a number!\n",
      "p is a not a number!\n",
      "i is a not a number!\n",
      "a is a not a number!\n"
     ]
    }
   ],
   "source": [
    "# approach 1\n",
    "\n",
    "for char in num_str:\n",
    "    if char in numbers:\n",
    "        print(char, 'is a number!')\n",
    "        \n",
    "    else:\n",
    "        print(char, 'is a not a number!')"
   ]
  },
  {
   "cell_type": "code",
   "execution_count": null,
   "metadata": {},
   "outputs": [],
   "source": []
  },
  {
   "cell_type": "code",
   "execution_count": 6,
   "metadata": {},
   "outputs": [],
   "source": [
    "num_str = '213'"
   ]
  },
  {
   "cell_type": "code",
   "execution_count": 7,
   "metadata": {},
   "outputs": [
    {
     "name": "stdout",
     "output_type": "stream",
     "text": [
      "213 is a number\n"
     ]
    }
   ],
   "source": [
    "# approach 2\n",
    "\n",
    "for char in num_str:\n",
    "    if char not in numbers: # If even one character is not a number, then it is not a number\n",
    "                 \n",
    "        print(num_str, 'is not a number')\n",
    "        break  \n",
    "        \n",
    "else:  \n",
    "    print(num_str, 'is a number')"
   ]
  },
  {
   "cell_type": "markdown",
   "metadata": {},
   "source": [
    "### 2_Find Perfect Numbers\n",
    "Write a program to accept a number and check whether it is a perfect number or not.\n",
    "\n",
    "Note: Perfect number is a positive integer that is equal to the sum of its divisors for example divisors of 6 are 1, 2, 3 and the sum of divisors is also 6, so 6 is a perfect number)"
   ]
  },
  {
   "cell_type": "code",
   "execution_count": 9,
   "metadata": {},
   "outputs": [],
   "source": [
    "num = 6"
   ]
  },
  {
   "cell_type": "code",
   "execution_count": 10,
   "metadata": {},
   "outputs": [
    {
     "name": "stdout",
     "output_type": "stream",
     "text": [
      "6\n",
      "6 is a perfect number!\n"
     ]
    }
   ],
   "source": [
    "# approach 1\n",
    "\n",
    "sum_d = 0\n",
    "\n",
    "for i in range(1, num):\n",
    "    if num % i == 0:\n",
    "        sum_d += i \n",
    "print(sum_d)\n",
    "\n",
    "if sum_d == num:\n",
    "        print(num, 'is a perfect number!')\n",
    "        "
   ]
  },
  {
   "cell_type": "code",
   "execution_count": 14,
   "metadata": {},
   "outputs": [
    {
     "name": "stdout",
     "output_type": "stream",
     "text": [
      "6\n",
      "6 is a perfect number!\n"
     ]
    }
   ],
   "source": [
    "# approach 2\n",
    "\n",
    "sum_d = 0\n",
    "\n",
    "for i in range(1, num // 2 + 1):  # Because the divisor of the number is not more than half of the number\n",
    "    if num % i == 0:\n",
    "        sum_d += i \n",
    "print(sum_d)\n",
    "\n",
    "if sum_d == num:\n",
    "        print(num, 'is a perfect number!')\n",
    "        "
   ]
  },
  {
   "cell_type": "code",
   "execution_count": null,
   "metadata": {},
   "outputs": [],
   "source": []
  },
  {
   "cell_type": "markdown",
   "metadata": {},
   "source": [
    "### 3_Fibonacci Series\n",
    "Display Fibonacci series up to 10 terms.\n",
    "\n",
    "Note: The Fibonacci Sequence is a series of numbers. The next number is found by adding up the two numbers before it. The first two numbers are 0 and 1.  \n",
    "\n",
    "For example, for 0, 1, 1, 2, 3, 5, 8, 13, 21 , The next number in this series above is 13+21 = 34 ."
   ]
  },
  {
   "cell_type": "code",
   "execution_count": 1,
   "metadata": {},
   "outputs": [
    {
     "name": "stdout",
     "output_type": "stream",
     "text": [
      "0  1  1  2  3  5  8  13  21  34  "
     ]
    }
   ],
   "source": [
    "# approach 1\n",
    "\n",
    "num1, num2 = 0, 1\n",
    "\n",
    "\n",
    "for i in range(10):\n",
    "    # print next number of a series\n",
    "    print(num1, end=\"  \")\n",
    "    # add last two numbers to get next number\n",
    "    res = num1 + num2\n",
    "\n",
    "    # update values\n",
    "    num1 = num2\n",
    "    num2 = res"
   ]
  },
  {
   "cell_type": "code",
   "execution_count": 15,
   "metadata": {},
   "outputs": [],
   "source": [
    "# recursive function\n",
    "# approach 2\n",
    "\n",
    "def fib(n):\n",
    "    if n == 0:\n",
    "        return n\n",
    "    if n == 1:\n",
    "        return n\n",
    "    else :\n",
    "        return fib(n-1) + fib(n - 2)\n",
    "    "
   ]
  },
  {
   "cell_type": "code",
   "execution_count": 16,
   "metadata": {},
   "outputs": [
    {
     "data": {
      "text/plain": [
       "55"
      ]
     },
     "execution_count": 16,
     "metadata": {},
     "output_type": "execute_result"
    }
   ],
   "source": [
    "fib(10)"
   ]
  },
  {
   "cell_type": "code",
   "execution_count": null,
   "metadata": {},
   "outputs": [],
   "source": []
  }
 ],
 "metadata": {
  "kernelspec": {
   "display_name": "Python 3",
   "language": "python",
   "name": "python3"
  },
  "language_info": {
   "codemirror_mode": {
    "name": "ipython",
    "version": 3
   },
   "file_extension": ".py",
   "mimetype": "text/x-python",
   "name": "python",
   "nbconvert_exporter": "python",
   "pygments_lexer": "ipython3",
   "version": "3.7.6"
  }
 },
 "nbformat": 4,
 "nbformat_minor": 4
}
