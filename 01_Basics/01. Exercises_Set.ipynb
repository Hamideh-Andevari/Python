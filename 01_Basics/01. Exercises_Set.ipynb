{
 "cells": [
  {
   "cell_type": "markdown",
   "metadata": {},
   "source": [
    "### 1. Two-digits prime numbers\n",
    "\n",
    "Create a Set of Two-digits prime numbers and store it in the primes variable and print it."
   ]
  },
  {
   "cell_type": "code",
   "execution_count": 9,
   "metadata": {},
   "outputs": [
    {
     "name": "stdout",
     "output_type": "stream",
     "text": [
      "10 11 12 13 14 15 16 17 18 19 20 21 22 23 24 25 26 27 28 29 30 31 32 33 34 35 36 37 38 39 40 41 42 43 44 45 46 47 48 49 50 51 52 53 54 55 56 57 58 59 60 61 62 63 64 65 66 67 68 69 70 71 72 73 74 75 76 77 78 79 80 81 82 83 84 85 86 87 88 89 90 91 92 93 94 95 96 97 98 99 "
     ]
    }
   ],
   "source": [
    "# print two-digits numbers\n",
    "\n",
    "n =2\n",
    "\n",
    "for num in range (10 **(n-1), 10 ** n):\n",
    "    print(num, end = ' ')"
   ]
  },
  {
   "cell_type": "code",
   "execution_count": 27,
   "metadata": {},
   "outputs": [],
   "source": [
    "def is_prime(num):\n",
    "    for i in range(2, num):\n",
    "        if num % i == 0:\n",
    "            \n",
    "             break\n",
    "    else:\n",
    "        print(num, end = \" \")\n",
    "    "
   ]
  },
  {
   "cell_type": "code",
   "execution_count": 29,
   "metadata": {},
   "outputs": [
    {
     "name": "stdout",
     "output_type": "stream",
     "text": [
      "11 13 17 19 23 29 31 37 41 43 47 53 59 61 67 71 73 79 83 89 97 "
     ]
    }
   ],
   "source": [
    "for num in range (10 **(n-1), 10 ** n):\n",
    "    if is_prime(num):\n",
    "        print(num, end = ' ,')"
   ]
  },
  {
   "cell_type": "code",
   "execution_count": null,
   "metadata": {},
   "outputs": [],
   "source": []
  },
  {
   "cell_type": "markdown",
   "metadata": {},
   "source": [
    "### 2. A list or a set, ay there's the point\n",
    "The following is a set of prime numbers less than 1000. Can you check to see if the number 149 is prime? Which is better for determining the presence or absence of an item in a group of items, a list or a set?"
   ]
  },
  {
   "cell_type": "code",
   "execution_count": 1,
   "metadata": {},
   "outputs": [],
   "source": [
    "primes = {\n",
    "          2, 3, 5, 7, 11, 13, 17, 19, 23, 29, 31, 37, 41,\n",
    "          43, 47, 53, 59, 61, 67, 71, 73, 79, 83, 89, 97,\n",
    "          101, 103, 107, 109, 113, 127, 131, 137, 139, 149,\n",
    "          151, 157, 163, 167, 173, 179, 181, 191, 193, 197,\n",
    "          199, 211, 223, 227, 229, 233, 239, 241, 251, 257,\n",
    "          263, 269, 271, 277, 281, 283, 293, 307, 311, 313,\n",
    "          317, 331, 337, 347, 349, 353, 359, 367, 373, 379,\n",
    "          383, 389, 397, 401, 409, 419, 421, 431, 433, 439,\n",
    "          443, 449, 457, 461, 463, 467, 479, 487, 491, 499,\n",
    "          503, 509, 521, 523, 541, 547, 557, 563, 569, 571,\n",
    "          577, 587, 593, 599, 601, 607, 613, 617, 619, 631,\n",
    "          641, 643, 647, 653, 659, 661, 673, 677, 683, 691,\n",
    "          701, 709, 719, 727, 733, 739, 743, 751, 757, 761,\n",
    "          769, 773, 787, 797, 809, 811, 821, 823, 827, 829,\n",
    "          839, 853, 857, 859, 863, 877, 881, 883, 887, 907,\n",
    "          911, 919, 929, 937, 941, 947, 953, 967, 971, 977,\n",
    "          983, 991\n",
    "}"
   ]
  },
  {
   "cell_type": "code",
   "execution_count": 37,
   "metadata": {},
   "outputs": [
    {
     "name": "stdout",
     "output_type": "stream",
     "text": [
      "157 ns ± 17.3 ns per loop (mean ± std. dev. of 7 runs, 1000000 loops each)\n"
     ]
    }
   ],
   "source": [
    "%timeit 149 in primes"
   ]
  },
  {
   "cell_type": "code",
   "execution_count": 2,
   "metadata": {},
   "outputs": [],
   "source": [
    "primes_l = [\n",
    "          2, 3, 5, 7, 11, 13, 17, 19, 23, 29, 31, 37, 41,\n",
    "          43, 47, 53, 59, 61, 67, 71, 73, 79, 83, 89, 97,\n",
    "          101, 103, 107, 109, 113, 127, 131, 137, 139, 149,\n",
    "          151, 157, 163, 167, 173, 179, 181, 191, 193, 197,\n",
    "          199, 211, 223, 227, 229, 233, 239, 241, 251, 257,\n",
    "          263, 269, 271, 277, 281, 283, 293, 307, 311, 313,\n",
    "          317, 331, 337, 347, 349, 353, 359, 367, 373, 379,\n",
    "          383, 389, 397, 401, 409, 419, 421, 431, 433, 439,\n",
    "          443, 449, 457, 461, 463, 467, 479, 487, 491, 499,\n",
    "          503, 509, 521, 523, 541, 547, 557, 563, 569, 571,\n",
    "          577, 587, 593, 599, 601, 607, 613, 617, 619, 631,\n",
    "          641, 643, 647, 653, 659, 661, 673, 677, 683, 691,\n",
    "          701, 709, 719, 727, 733, 739, 743, 751, 757, 761,\n",
    "          769, 773, 787, 797, 809, 811, 821, 823, 827, 829,\n",
    "          839, 853, 857, 859, 863, 877, 881, 883, 887, 907,\n",
    "          911, 919, 929, 937, 941, 947, 953, 967, 971, 977,\n",
    "          983, 991\n",
    "    \n",
    "]"
   ]
  },
  {
   "cell_type": "code",
   "execution_count": 40,
   "metadata": {},
   "outputs": [
    {
     "name": "stdout",
     "output_type": "stream",
     "text": [
      "2.4 µs ± 399 ns per loop (mean ± std. dev. of 7 runs, 100000 loops each)\n"
     ]
    }
   ],
   "source": [
    "%timeit 149 in primes_l"
   ]
  },
  {
   "cell_type": "code",
   "execution_count": 41,
   "metadata": {},
   "outputs": [
    {
     "data": {
      "text/plain": [
       "15.286624203821656"
      ]
     },
     "execution_count": 41,
     "metadata": {},
     "output_type": "execute_result"
    }
   ],
   "source": [
    "2.4e-6 / 157e-9\n",
    "\n",
    "# Searching in a set is fifteen times faster than searching in a list!"
   ]
  },
  {
   "cell_type": "markdown",
   "metadata": {},
   "source": [
    "#### Searching a number in list(primes_l)"
   ]
  },
  {
   "cell_type": "code",
   "execution_count": 4,
   "metadata": {},
   "outputs": [
    {
     "name": "stdout",
     "output_type": "stream",
     "text": [
      "56.2 ns ± 4.64 ns per loop (mean ± std. dev. of 7 runs, 10000000 loops each)\n"
     ]
    }
   ],
   "source": [
    "%timeit 2 in primes_l"
   ]
  },
  {
   "cell_type": "code",
   "execution_count": 5,
   "metadata": {},
   "outputs": [
    {
     "name": "stdout",
     "output_type": "stream",
     "text": [
      "3.26 µs ± 292 ns per loop (mean ± std. dev. of 7 runs, 100000 loops each)\n"
     ]
    }
   ],
   "source": [
    "%timeit 8 in primes_l\n",
    "\n",
    "# 8 is not in the list, searches until the end of the list, so it takes a lot of time"
   ]
  },
  {
   "cell_type": "code",
   "execution_count": 6,
   "metadata": {},
   "outputs": [
    {
     "name": "stdout",
     "output_type": "stream",
     "text": [
      "3.32 µs ± 233 ns per loop (mean ± std. dev. of 7 runs, 100000 loops each)\n"
     ]
    }
   ],
   "source": [
    "%timeit 907 in primes_l"
   ]
  },
  {
   "cell_type": "markdown",
   "metadata": {},
   "source": [
    "#### Searching a number in set(primes)"
   ]
  },
  {
   "cell_type": "code",
   "execution_count": 54,
   "metadata": {},
   "outputs": [
    {
     "name": "stdout",
     "output_type": "stream",
     "text": [
      "139 ns ± 10.9 ns per loop (mean ± std. dev. of 7 runs, 1000000 loops each)\n"
     ]
    }
   ],
   "source": [
    "%timeit 2 in primes"
   ]
  },
  {
   "cell_type": "code",
   "execution_count": 52,
   "metadata": {},
   "outputs": [
    {
     "name": "stdout",
     "output_type": "stream",
     "text": [
      "144 ns ± 9.53 ns per loop (mean ± std. dev. of 7 runs, 1000000 loops each)\n"
     ]
    }
   ],
   "source": [
    "%timeit 8 in primes"
   ]
  },
  {
   "cell_type": "code",
   "execution_count": 53,
   "metadata": {},
   "outputs": [
    {
     "name": "stdout",
     "output_type": "stream",
     "text": [
      "204 ns ± 8.68 ns per loop (mean ± std. dev. of 7 runs, 1000000 loops each)\n"
     ]
    }
   ],
   "source": [
    "%timeit 907 in primes\n",
    "\n",
    "# The time is almost equal for all three numbers"
   ]
  },
  {
   "cell_type": "code",
   "execution_count": null,
   "metadata": {},
   "outputs": [],
   "source": []
  },
  {
   "cell_type": "markdown",
   "metadata": {},
   "source": [
    "### 3_ Add an element to the set\n",
    "Oops! apparently one of the prime numbers below One thousand, 997, is missing. Can you add it to primes vaiable? Then check to see if 997 is in primes variable."
   ]
  },
  {
   "cell_type": "code",
   "execution_count": 65,
   "metadata": {},
   "outputs": [],
   "source": [
    "primes = {2, 3, 5, 7, 11, 13, 17, 19, 23, 29, 31, 37, 41,\n",
    "          43, 47, 53, 59, 61, 67, 71, 73, 79, 83, 89, 97,\n",
    "          101, 103, 107, 109, 113, 127, 131, 137, 139, 149,\n",
    "          151, 157, 163, 167, 173, 179, 181, 191, 193, 197,\n",
    "          199, 211, 223, 227, 229, 233, 239, 241, 251, 257,\n",
    "          263, 269, 271, 277, 281, 283, 293, 307, 311, 313,\n",
    "          317, 331, 337, 347, 349, 353, 359, 367, 373, 379,\n",
    "          383, 389, 397, 401, 409, 419, 421, 431, 433, 439,\n",
    "          443, 449, 457, 461, 463, 467, 479, 487, 491, 499,\n",
    "          503, 509, 521, 523, 541, 547, 557, 563, 569, 571,\n",
    "          577, 587, 593, 599, 601, 607, 613, 617, 619, 631,\n",
    "          641, 643, 647, 653, 659, 661, 673, 677, 683, 691,\n",
    "          701, 709, 719, 727, 733, 739, 743, 751, 757, 761,\n",
    "          769, 773, 787, 797, 809, 811, 821, 823, 827, 829,\n",
    "          839, 853, 857, 859, 863, 877, 881, 883, 887, 907,\n",
    "          911, 919, 929, 937, 941, 947, 953, 967, 971, 977,\n",
    "          983, 991}"
   ]
  },
  {
   "cell_type": "code",
   "execution_count": 58,
   "metadata": {},
   "outputs": [],
   "source": [
    "primes.add(997) #inplace\n"
   ]
  },
  {
   "cell_type": "code",
   "execution_count": 59,
   "metadata": {},
   "outputs": [
    {
     "data": {
      "text/plain": [
       "True"
      ]
     },
     "execution_count": 59,
     "metadata": {},
     "output_type": "execute_result"
    }
   ],
   "source": [
    "997 in primes"
   ]
  },
  {
   "cell_type": "code",
   "execution_count": null,
   "metadata": {},
   "outputs": [],
   "source": []
  },
  {
   "cell_type": "markdown",
   "metadata": {},
   "source": [
    "### 4_Set operations\n",
    "4_1. Make a set of multiples of 3 and name it m3.\n",
    "\n",
    "4_2. Make a set of multiples of 5 and name it m5.\n",
    "\n",
    "4_3. Can you find the multiples of 15 using the & operator and store it in variable z1?\n",
    "\n",
    "4_4. Can you find the multiples of 15 using the intersection() method and store it in variable z2?\n",
    "\n",
    "4_5. Then find the multiples of 5 that are not divisible by 3. (hint: use the operator - or use the difference() method)\n",
    "\n",
    "4-6. after that use the + operators or the union() method to make a list of numbers that are either divisible by 5 or divisible by 3, or divisible by both."
   ]
  },
  {
   "cell_type": "code",
   "execution_count": 96,
   "metadata": {},
   "outputs": [],
   "source": [
    "# 4_1\n",
    "\n",
    "m3 = set(range(3, 100, 3))"
   ]
  },
  {
   "cell_type": "code",
   "execution_count": 97,
   "metadata": {},
   "outputs": [],
   "source": [
    "# 4_2\n",
    "\n",
    "m5 = set(range(5, 100, 5))"
   ]
  },
  {
   "cell_type": "code",
   "execution_count": 98,
   "metadata": {},
   "outputs": [
    {
     "data": {
      "text/plain": [
       "{15, 30, 45, 60, 75, 90}"
      ]
     },
     "execution_count": 98,
     "metadata": {},
     "output_type": "execute_result"
    }
   ],
   "source": [
    "# 4_3\n",
    "\n",
    "z1 = m3 & m5  # A number divisible by 15 that is divisible by both 3 and 5 \n",
    "z1"
   ]
  },
  {
   "cell_type": "code",
   "execution_count": 99,
   "metadata": {},
   "outputs": [],
   "source": [
    "# 4_4\n",
    "\n",
    "z2 = m3.intersection(m5)"
   ]
  },
  {
   "cell_type": "code",
   "execution_count": 100,
   "metadata": {},
   "outputs": [
    {
     "data": {
      "text/plain": [
       "{15, 30, 45, 60, 75, 90}"
      ]
     },
     "execution_count": 100,
     "metadata": {},
     "output_type": "execute_result"
    }
   ],
   "source": [
    "z2"
   ]
  },
  {
   "cell_type": "code",
   "execution_count": null,
   "metadata": {},
   "outputs": [],
   "source": []
  },
  {
   "cell_type": "code",
   "execution_count": 82,
   "metadata": {},
   "outputs": [
    {
     "data": {
      "text/plain": [
       "{5, 10, 20, 25, 35}"
      ]
     },
     "execution_count": 82,
     "metadata": {},
     "output_type": "execute_result"
    }
   ],
   "source": [
    "# 4_5\n",
    "\n",
    "z5 = m5 - m3   #m5.difference(m3)\n",
    "z5\n",
    "\n",
    "# find the multiples of 5 that are not divisible by 3"
   ]
  },
  {
   "cell_type": "code",
   "execution_count": 83,
   "metadata": {},
   "outputs": [
    {
     "data": {
      "text/plain": [
       "{3, 5, 6, 9, 10, 12, 15, 18, 20, 21, 24, 25, 27, 30, 35}"
      ]
     },
     "execution_count": 83,
     "metadata": {},
     "output_type": "execute_result"
    }
   ],
   "source": [
    "# 4_6\n",
    "\n",
    "z3_5 = m3.union(m5)\n",
    "z3_5\n",
    "\n",
    "# ist of numbers that are either divisible by 5 or divisible by 3, or divisible by both."
   ]
  },
  {
   "cell_type": "code",
   "execution_count": null,
   "metadata": {},
   "outputs": [],
   "source": []
  }
 ],
 "metadata": {
  "kernelspec": {
   "display_name": "Python 3",
   "language": "python",
   "name": "python3"
  },
  "language_info": {
   "codemirror_mode": {
    "name": "ipython",
    "version": 3
   },
   "file_extension": ".py",
   "mimetype": "text/x-python",
   "name": "python",
   "nbconvert_exporter": "python",
   "pygments_lexer": "ipython3",
   "version": "3.7.6"
  }
 },
 "nbformat": 4,
 "nbformat_minor": 4
}
